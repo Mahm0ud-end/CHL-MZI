{
 "cells": [
  {
   "cell_type": "code",
   "execution_count": 1,
   "metadata": {},
   "outputs": [],
   "source": [
    "import numpy as np"
   ]
  },
  {
   "cell_type": "code",
   "execution_count": 13,
   "metadata": {},
   "outputs": [
    {
     "data": {
      "text/plain": [
       "array([4, array([[1., 0., 0.],\n",
       "                 [0., 1., 0.]]), array([[1., 0., 0., 0.],\n",
       "                                        [0., 1., 0., 0.],\n",
       "                                        [0., 0., 1., 0.]]),\n",
       "       array([[1., 0., 0., 0., 0.],\n",
       "              [0., 1., 0., 0., 0.],\n",
       "              [0., 0., 1., 0., 0.],\n",
       "              [0., 0., 0., 1., 0.]]), array([[1., 0., 0., 0., 0., 0.],\n",
       "                                             [0., 1., 0., 0., 0., 0.],\n",
       "                                             [0., 0., 1., 0., 0., 0.],\n",
       "                                             [0., 0., 0., 1., 0., 0.],\n",
       "                                             [0., 0., 0., 0., 1., 0.]])],\n",
       "      dtype=object)"
      ]
     },
     "execution_count": 13,
     "metadata": {},
     "output_type": "execute_result"
    }
   ],
   "source": [
    "\n",
    "y=np.array([np.eye(i+1,i+2) for i in range(5)],dtype=object)\n",
    "y[0]=4\n",
    "y"
   ]
  },
  {
   "cell_type": "code",
   "execution_count": 17,
   "metadata": {},
   "outputs": [
    {
     "data": {
      "text/plain": [
       "[1, 2, 3, 4]"
      ]
     },
     "execution_count": 17,
     "metadata": {},
     "output_type": "execute_result"
    }
   ],
   "source": [
    "list(range(1,5))"
   ]
  },
  {
   "cell_type": "code",
   "execution_count": 19,
   "metadata": {},
   "outputs": [],
   "source": [
    "x=np.array([[1,2],[3,4]])"
   ]
  },
  {
   "cell_type": "code",
   "execution_count": 20,
   "metadata": {},
   "outputs": [
    {
     "data": {
      "text/plain": [
       "array([[1, 3],\n",
       "       [2, 4]])"
      ]
     },
     "execution_count": 20,
     "metadata": {},
     "output_type": "execute_result"
    }
   ],
   "source": [
    "x.T"
   ]
  },
  {
   "cell_type": "code",
   "execution_count": 22,
   "metadata": {},
   "outputs": [
    {
     "name": "stdout",
     "output_type": "stream",
     "text": [
      "[[0, 0, 0, 0, 1], [0, 0, 1, 1, 0]]\n"
     ]
    }
   ],
   "source": [
    "J=np.array([[0,0,0,0,1],[0,0,1,1,0]])\n",
    "print(J)"
   ]
  }
 ],
 "metadata": {
  "kernelspec": {
   "display_name": "Python 3.9.7 ('base')",
   "language": "python",
   "name": "python3"
  },
  "language_info": {
   "codemirror_mode": {
    "name": "ipython",
    "version": 3
   },
   "file_extension": ".py",
   "mimetype": "text/x-python",
   "name": "python",
   "nbconvert_exporter": "python",
   "pygments_lexer": "ipython3",
   "version": "3.9.7"
  },
  "orig_nbformat": 4,
  "vscode": {
   "interpreter": {
    "hash": "750d859e2a31f3529ff839c4a8858c928a79ff7bd2ddb148814d7bae120235ce"
   }
  }
 },
 "nbformat": 4,
 "nbformat_minor": 2
}
